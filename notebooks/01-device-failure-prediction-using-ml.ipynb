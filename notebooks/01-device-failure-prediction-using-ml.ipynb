{
 "cells": [
  {
   "cell_type": "markdown",
   "metadata": {},
   "source": [
    "# Device Failure Prediction using Machine Learning"
   ]
  },
  {
   "cell_type": "markdown",
   "metadata": {},
   "source": [
    "--------------------------------------------------------------------"
   ]
  },
  {
   "cell_type": "markdown",
   "metadata": {},
   "source": [
    "## Table of Contents\n",
    "\n",
    "1. [Importing the Libraries](#import)\n",
    "2. [Dataset Overview](#dataset-overview)\n",
    "3. [Exploratory Data Analysis](#eda)\n",
    "4. [Data Preprocessing](#preprocessing)\n",
    "5. [Model Building](#model-building)\n",
    "    1. [Logistic Regression](#LR)\n",
    "    2. [Random Forest Classifier](#RF)\n",
    "    3. [Extreme Gradient Boosting Classifier](#XGB)\n",
    "    4. [K Nearest Neighbors Classifier](#KNN)\n",
    "    5. [Gradient Boosting Classifier](#GB)\n",
    "6. [Model Saving](#model-saving)\n",
    "7. [Model Evaluation](#model-evaluation)\n",
    "8. [Voting Classifier](#voting-classifier)\n",
    "9. [Conclusion](#conclusion)"
   ]
  },
  {
   "cell_type": "markdown",
   "metadata": {},
   "source": [
    "### 1. Importing the Libraries <a name = \"import\"></a>"
   ]
  },
  {
   "cell_type": "code",
   "execution_count": 163,
   "metadata": {
    "id": "gF_A3bed-xKq"
   },
   "outputs": [],
   "source": [
    "# Importing the libraries.\n",
    "import pandas as pd\n",
    "import numpy as np\n",
    "import matplotlib.pyplot as plt\n",
    "import seaborn as sns\n",
    "from collections import Counter\n",
    "from sklearn.pipeline import Pipeline\n",
    "from sklearn.compose import ColumnTransformer\n",
    "from sklearn.preprocessing import StandardScaler, MinMaxScaler\n",
    "from sklearn.model_selection import train_test_split, StratifiedKFold, cross_val_score\n",
    "from sklearn.metrics import accuracy_score, roc_auc_score, confusion_matrix, classification_report, f1_score, precision_score, recall_score, roc_curve\n",
    "from sklearn.ensemble import RandomForestClassifier, GradientBoostingClassifier, VotingClassifier\n",
    "from sklearn.linear_model import LogisticRegression\n",
    "from sklearn.model_selection import GridSearchCV\n",
    "from xgboost import XGBClassifier\n",
    "from sklearn.neighbors import KNeighborsClassifier\n",
    "from imblearn.over_sampling import SMOTE\n",
    "from imblearn.under_sampling import RandomUnderSampler\n",
    "import warnings\n",
    "warnings.filterwarnings(\"ignore\")\n",
    "plt.style.use(\"ggplot\")"
   ]
  },
  {
   "cell_type": "code",
   "execution_count": 196,
   "metadata": {},
   "outputs": [],
   "source": [
    "# Creating a config class to store all the configurations\n",
    "class config:\n",
    "    \n",
    "    # training dataset path\n",
    "    DATASET_PATH = \"../data/predict_failure.csv\" \n",
    "    \n",
    "    # Input parameters for data preprocessing\n",
    "    TARGET = \"failure\"\n",
    "    TEST_SIZE = 0.2\n",
    "    SEED = 42\n",
    "    N_SPLITS = 10\n",
    "    \n",
    "    # Input parameters for data samplking techniques\n",
    "    SMOTE_SAMPLING_STRATERGY = 0.1\n",
    "    UNDER_SAMPLING_STRATERGY = 0.75\n",
    "    \n",
    "    # Features to be dropped\n",
    "    DROP_ATTRIBUTES = [\"date\", \"device\", \"attribute7\"]\n",
    "    \n",
    "    # List of features to be scaled based on Standardization/Normalization\n",
    "    STANDARD_SCALER_ATTRIBUTES= [\"attribute2\", \"attribute3\", \"attribute4\", \"attribute5\", \"attribute8\", \"attribute9\"]\n",
    "    MIN_MAX__SCALER_ATTRIBUTES = [\"attribute1\", \"attribute6\"]\n",
    "    "
   ]
  },
  {
   "cell_type": "markdown",
   "metadata": {},
   "source": [
    "### 2. Dataset Overview <a name = \"dataset-overview\"></a>"
   ]
  },
  {
   "cell_type": "code",
   "execution_count": 23,
   "metadata": {
    "colab": {
     "base_uri": "https://localhost:8080/",
     "height": 206
    },
    "id": "1T0y34x2-xKv",
    "outputId": "43f297de-011d-4aa5-d9bc-73db6769c1eb"
   },
   "outputs": [
    {
     "data": {
      "text/html": [
       "<div>\n",
       "<style scoped>\n",
       "    .dataframe tbody tr th:only-of-type {\n",
       "        vertical-align: middle;\n",
       "    }\n",
       "\n",
       "    .dataframe tbody tr th {\n",
       "        vertical-align: top;\n",
       "    }\n",
       "\n",
       "    .dataframe thead th {\n",
       "        text-align: right;\n",
       "    }\n",
       "</style>\n",
       "<table border=\"1\" class=\"dataframe\">\n",
       "  <thead>\n",
       "    <tr style=\"text-align: right;\">\n",
       "      <th></th>\n",
       "      <th>date</th>\n",
       "      <th>device</th>\n",
       "      <th>failure</th>\n",
       "      <th>attribute1</th>\n",
       "      <th>attribute2</th>\n",
       "      <th>attribute3</th>\n",
       "      <th>attribute4</th>\n",
       "      <th>attribute5</th>\n",
       "      <th>attribute6</th>\n",
       "      <th>attribute7</th>\n",
       "      <th>attribute8</th>\n",
       "      <th>attribute9</th>\n",
       "    </tr>\n",
       "  </thead>\n",
       "  <tbody>\n",
       "    <tr>\n",
       "      <th>0</th>\n",
       "      <td>2015-01-01</td>\n",
       "      <td>S1F01085</td>\n",
       "      <td>0</td>\n",
       "      <td>215630672</td>\n",
       "      <td>56</td>\n",
       "      <td>0</td>\n",
       "      <td>52</td>\n",
       "      <td>6</td>\n",
       "      <td>407438</td>\n",
       "      <td>0</td>\n",
       "      <td>0</td>\n",
       "      <td>7</td>\n",
       "    </tr>\n",
       "    <tr>\n",
       "      <th>1</th>\n",
       "      <td>2015-01-01</td>\n",
       "      <td>S1F0166B</td>\n",
       "      <td>0</td>\n",
       "      <td>61370680</td>\n",
       "      <td>0</td>\n",
       "      <td>3</td>\n",
       "      <td>0</td>\n",
       "      <td>6</td>\n",
       "      <td>403174</td>\n",
       "      <td>0</td>\n",
       "      <td>0</td>\n",
       "      <td>0</td>\n",
       "    </tr>\n",
       "    <tr>\n",
       "      <th>2</th>\n",
       "      <td>2015-01-01</td>\n",
       "      <td>S1F01E6Y</td>\n",
       "      <td>0</td>\n",
       "      <td>173295968</td>\n",
       "      <td>0</td>\n",
       "      <td>0</td>\n",
       "      <td>0</td>\n",
       "      <td>12</td>\n",
       "      <td>237394</td>\n",
       "      <td>0</td>\n",
       "      <td>0</td>\n",
       "      <td>0</td>\n",
       "    </tr>\n",
       "    <tr>\n",
       "      <th>3</th>\n",
       "      <td>2015-01-01</td>\n",
       "      <td>S1F01JE0</td>\n",
       "      <td>0</td>\n",
       "      <td>79694024</td>\n",
       "      <td>0</td>\n",
       "      <td>0</td>\n",
       "      <td>0</td>\n",
       "      <td>6</td>\n",
       "      <td>410186</td>\n",
       "      <td>0</td>\n",
       "      <td>0</td>\n",
       "      <td>0</td>\n",
       "    </tr>\n",
       "    <tr>\n",
       "      <th>4</th>\n",
       "      <td>2015-01-01</td>\n",
       "      <td>S1F01R2B</td>\n",
       "      <td>0</td>\n",
       "      <td>135970480</td>\n",
       "      <td>0</td>\n",
       "      <td>0</td>\n",
       "      <td>0</td>\n",
       "      <td>15</td>\n",
       "      <td>313173</td>\n",
       "      <td>0</td>\n",
       "      <td>0</td>\n",
       "      <td>3</td>\n",
       "    </tr>\n",
       "  </tbody>\n",
       "</table>\n",
       "</div>"
      ],
      "text/plain": [
       "         date    device  failure  attribute1  attribute2  attribute3  \\\n",
       "0  2015-01-01  S1F01085        0   215630672          56           0   \n",
       "1  2015-01-01  S1F0166B        0    61370680           0           3   \n",
       "2  2015-01-01  S1F01E6Y        0   173295968           0           0   \n",
       "3  2015-01-01  S1F01JE0        0    79694024           0           0   \n",
       "4  2015-01-01  S1F01R2B        0   135970480           0           0   \n",
       "\n",
       "   attribute4  attribute5  attribute6  attribute7  attribute8  attribute9  \n",
       "0          52           6      407438           0           0           7  \n",
       "1           0           6      403174           0           0           0  \n",
       "2           0          12      237394           0           0           0  \n",
       "3           0           6      410186           0           0           0  \n",
       "4           0          15      313173           0           0           3  "
      ]
     },
     "execution_count": 23,
     "metadata": {},
     "output_type": "execute_result"
    }
   ],
   "source": [
    "# Importing the dataset.\n",
    "failure_data = pd.read_csv(\"../data/predict_failure.csv\")\n",
    "failure_data.head()"
   ]
  },
  {
   "cell_type": "code",
   "execution_count": 3,
   "metadata": {
    "colab": {
     "base_uri": "https://localhost:8080/"
    },
    "id": "nAPxs-SB-xKz",
    "outputId": "cd6fc316-626f-46a0-dfa0-f4cbac6b8b2b"
   },
   "outputs": [
    {
     "data": {
      "text/plain": [
       "(124494, 12)"
      ]
     },
     "execution_count": 3,
     "metadata": {},
     "output_type": "execute_result"
    }
   ],
   "source": [
    "# Shape of the dataset.\n",
    "failure_data.shape"
   ]
  },
  {
   "cell_type": "code",
   "execution_count": 4,
   "metadata": {
    "colab": {
     "base_uri": "https://localhost:8080/"
    },
    "id": "OYlLr-jm-xK0",
    "outputId": "1b181b2a-ec28-4003-b315-a151fe859836"
   },
   "outputs": [
    {
     "name": "stdout",
     "output_type": "stream",
     "text": [
      "<class 'pandas.core.frame.DataFrame'>\n",
      "RangeIndex: 124494 entries, 0 to 124493\n",
      "Data columns (total 12 columns):\n",
      " #   Column      Non-Null Count   Dtype \n",
      "---  ------      --------------   ----- \n",
      " 0   date        124494 non-null  object\n",
      " 1   device      124494 non-null  object\n",
      " 2   failure     124494 non-null  int64 \n",
      " 3   attribute1  124494 non-null  int64 \n",
      " 4   attribute2  124494 non-null  int64 \n",
      " 5   attribute3  124494 non-null  int64 \n",
      " 6   attribute4  124494 non-null  int64 \n",
      " 7   attribute5  124494 non-null  int64 \n",
      " 8   attribute6  124494 non-null  int64 \n",
      " 9   attribute7  124494 non-null  int64 \n",
      " 10  attribute8  124494 non-null  int64 \n",
      " 11  attribute9  124494 non-null  int64 \n",
      "dtypes: int64(10), object(2)\n",
      "memory usage: 11.4+ MB\n"
     ]
    }
   ],
   "source": [
    "# Checking the dataset info.\n",
    "failure_data.info()"
   ]
  },
  {
   "cell_type": "code",
   "execution_count": 5,
   "metadata": {
    "id": "-k5wKcw--xK1"
   },
   "outputs": [],
   "source": [
    "# Changing the date column type to datetime.\n",
    "failure_data[\"date\"] = pd.to_datetime(failure_data[\"date\"], format=\"%Y-%m-%d\")"
   ]
  },
  {
   "cell_type": "code",
   "execution_count": 6,
   "metadata": {
    "colab": {
     "base_uri": "https://localhost:8080/"
    },
    "id": "ZDAvuHQM-xK2",
    "outputId": "fdac8eea-2b40-4c9f-db84-6eee96ed0a35"
   },
   "outputs": [
    {
     "name": "stdout",
     "output_type": "stream",
     "text": [
      "date          0.0\n",
      "device        0.0\n",
      "failure       0.0\n",
      "attribute1    0.0\n",
      "attribute2    0.0\n",
      "attribute3    0.0\n",
      "attribute4    0.0\n",
      "attribute5    0.0\n",
      "attribute6    0.0\n",
      "attribute7    0.0\n",
      "attribute8    0.0\n",
      "attribute9    0.0\n",
      "dtype: float64\n"
     ]
    }
   ],
   "source": [
    "# Checking for missing values\n",
    "print(failure_data.isnull().sum()/len(failure_data)*100)"
   ]
  },
  {
   "cell_type": "code",
   "execution_count": 7,
   "metadata": {
    "colab": {
     "base_uri": "https://localhost:8080/",
     "height": 300
    },
    "id": "-kUrHTor-xK2",
    "outputId": "9d2e8567-9e8e-4881-b996-296b0553c01a"
   },
   "outputs": [
    {
     "data": {
      "text/html": [
       "<div>\n",
       "<style scoped>\n",
       "    .dataframe tbody tr th:only-of-type {\n",
       "        vertical-align: middle;\n",
       "    }\n",
       "\n",
       "    .dataframe tbody tr th {\n",
       "        vertical-align: top;\n",
       "    }\n",
       "\n",
       "    .dataframe thead th {\n",
       "        text-align: right;\n",
       "    }\n",
       "</style>\n",
       "<table border=\"1\" class=\"dataframe\">\n",
       "  <thead>\n",
       "    <tr style=\"text-align: right;\">\n",
       "      <th></th>\n",
       "      <th>failure</th>\n",
       "      <th>attribute1</th>\n",
       "      <th>attribute2</th>\n",
       "      <th>attribute3</th>\n",
       "      <th>attribute4</th>\n",
       "      <th>attribute5</th>\n",
       "      <th>attribute6</th>\n",
       "      <th>attribute7</th>\n",
       "      <th>attribute8</th>\n",
       "      <th>attribute9</th>\n",
       "    </tr>\n",
       "  </thead>\n",
       "  <tbody>\n",
       "    <tr>\n",
       "      <th>count</th>\n",
       "      <td>124494.000000</td>\n",
       "      <td>1.244940e+05</td>\n",
       "      <td>124494.000000</td>\n",
       "      <td>124494.000000</td>\n",
       "      <td>124494.000000</td>\n",
       "      <td>124494.000000</td>\n",
       "      <td>124494.000000</td>\n",
       "      <td>124494.000000</td>\n",
       "      <td>124494.000000</td>\n",
       "      <td>124494.000000</td>\n",
       "    </tr>\n",
       "    <tr>\n",
       "      <th>mean</th>\n",
       "      <td>0.000851</td>\n",
       "      <td>1.223868e+08</td>\n",
       "      <td>159.484762</td>\n",
       "      <td>9.940455</td>\n",
       "      <td>1.741120</td>\n",
       "      <td>14.222693</td>\n",
       "      <td>260172.858025</td>\n",
       "      <td>0.292528</td>\n",
       "      <td>0.292528</td>\n",
       "      <td>12.451524</td>\n",
       "    </tr>\n",
       "    <tr>\n",
       "      <th>std</th>\n",
       "      <td>0.029167</td>\n",
       "      <td>7.045960e+07</td>\n",
       "      <td>2179.657730</td>\n",
       "      <td>185.747321</td>\n",
       "      <td>22.908507</td>\n",
       "      <td>15.943021</td>\n",
       "      <td>99151.009852</td>\n",
       "      <td>7.436924</td>\n",
       "      <td>7.436924</td>\n",
       "      <td>191.425623</td>\n",
       "    </tr>\n",
       "    <tr>\n",
       "      <th>min</th>\n",
       "      <td>0.000000</td>\n",
       "      <td>0.000000e+00</td>\n",
       "      <td>0.000000</td>\n",
       "      <td>0.000000</td>\n",
       "      <td>0.000000</td>\n",
       "      <td>1.000000</td>\n",
       "      <td>8.000000</td>\n",
       "      <td>0.000000</td>\n",
       "      <td>0.000000</td>\n",
       "      <td>0.000000</td>\n",
       "    </tr>\n",
       "    <tr>\n",
       "      <th>25%</th>\n",
       "      <td>0.000000</td>\n",
       "      <td>6.127675e+07</td>\n",
       "      <td>0.000000</td>\n",
       "      <td>0.000000</td>\n",
       "      <td>0.000000</td>\n",
       "      <td>8.000000</td>\n",
       "      <td>221452.000000</td>\n",
       "      <td>0.000000</td>\n",
       "      <td>0.000000</td>\n",
       "      <td>0.000000</td>\n",
       "    </tr>\n",
       "    <tr>\n",
       "      <th>50%</th>\n",
       "      <td>0.000000</td>\n",
       "      <td>1.227957e+08</td>\n",
       "      <td>0.000000</td>\n",
       "      <td>0.000000</td>\n",
       "      <td>0.000000</td>\n",
       "      <td>10.000000</td>\n",
       "      <td>249799.500000</td>\n",
       "      <td>0.000000</td>\n",
       "      <td>0.000000</td>\n",
       "      <td>0.000000</td>\n",
       "    </tr>\n",
       "    <tr>\n",
       "      <th>75%</th>\n",
       "      <td>0.000000</td>\n",
       "      <td>1.833084e+08</td>\n",
       "      <td>0.000000</td>\n",
       "      <td>0.000000</td>\n",
       "      <td>0.000000</td>\n",
       "      <td>12.000000</td>\n",
       "      <td>310266.000000</td>\n",
       "      <td>0.000000</td>\n",
       "      <td>0.000000</td>\n",
       "      <td>0.000000</td>\n",
       "    </tr>\n",
       "    <tr>\n",
       "      <th>max</th>\n",
       "      <td>1.000000</td>\n",
       "      <td>2.441405e+08</td>\n",
       "      <td>64968.000000</td>\n",
       "      <td>24929.000000</td>\n",
       "      <td>1666.000000</td>\n",
       "      <td>98.000000</td>\n",
       "      <td>689161.000000</td>\n",
       "      <td>832.000000</td>\n",
       "      <td>832.000000</td>\n",
       "      <td>18701.000000</td>\n",
       "    </tr>\n",
       "  </tbody>\n",
       "</table>\n",
       "</div>"
      ],
      "text/plain": [
       "             failure    attribute1     attribute2     attribute3  \\\n",
       "count  124494.000000  1.244940e+05  124494.000000  124494.000000   \n",
       "mean        0.000851  1.223868e+08     159.484762       9.940455   \n",
       "std         0.029167  7.045960e+07    2179.657730     185.747321   \n",
       "min         0.000000  0.000000e+00       0.000000       0.000000   \n",
       "25%         0.000000  6.127675e+07       0.000000       0.000000   \n",
       "50%         0.000000  1.227957e+08       0.000000       0.000000   \n",
       "75%         0.000000  1.833084e+08       0.000000       0.000000   \n",
       "max         1.000000  2.441405e+08   64968.000000   24929.000000   \n",
       "\n",
       "          attribute4     attribute5     attribute6     attribute7  \\\n",
       "count  124494.000000  124494.000000  124494.000000  124494.000000   \n",
       "mean        1.741120      14.222693  260172.858025       0.292528   \n",
       "std        22.908507      15.943021   99151.009852       7.436924   \n",
       "min         0.000000       1.000000       8.000000       0.000000   \n",
       "25%         0.000000       8.000000  221452.000000       0.000000   \n",
       "50%         0.000000      10.000000  249799.500000       0.000000   \n",
       "75%         0.000000      12.000000  310266.000000       0.000000   \n",
       "max      1666.000000      98.000000  689161.000000     832.000000   \n",
       "\n",
       "          attribute8     attribute9  \n",
       "count  124494.000000  124494.000000  \n",
       "mean        0.292528      12.451524  \n",
       "std         7.436924     191.425623  \n",
       "min         0.000000       0.000000  \n",
       "25%         0.000000       0.000000  \n",
       "50%         0.000000       0.000000  \n",
       "75%         0.000000       0.000000  \n",
       "max       832.000000   18701.000000  "
      ]
     },
     "execution_count": 7,
     "metadata": {},
     "output_type": "execute_result"
    }
   ],
   "source": [
    "# Checking the variations.\n",
    "failure_data.describe()"
   ]
  },
  {
   "cell_type": "code",
   "execution_count": 8,
   "metadata": {
    "colab": {
     "base_uri": "https://localhost:8080/"
    },
    "id": "qgEc38yX-xK3",
    "outputId": "83c43b16-4296-4692-88c2-d0a3c3723c7d"
   },
   "outputs": [
    {
     "data": {
      "text/plain": [
       "0    124388\n",
       "1       106\n",
       "Name: failure, dtype: int64"
      ]
     },
     "execution_count": 8,
     "metadata": {},
     "output_type": "execute_result"
    }
   ],
   "source": [
    "# Checking for class imbalance based on target variable failure.\n",
    "failure_data[\"failure\"].value_counts()"
   ]
  },
  {
   "cell_type": "markdown",
   "metadata": {},
   "source": [
    "### 3. Exploratory Data Analysis <a name = \"eda\"></a>"
   ]
  },
  {
   "cell_type": "code",
   "execution_count": 9,
   "metadata": {
    "colab": {
     "base_uri": "https://localhost:8080/"
    },
    "id": "N126tsMm-xK4",
    "outputId": "f087366f-7a16-4235-a9d9-f8704b3fab77"
   },
   "outputs": [
    {
     "data": {
      "text/plain": [
       "1168"
      ]
     },
     "execution_count": 9,
     "metadata": {},
     "output_type": "execute_result"
    }
   ],
   "source": [
    "# Checking the unique number of devices in the dataset.\n",
    "failure_data[\"device\"].nunique()"
   ]
  },
  {
   "cell_type": "code",
   "execution_count": 10,
   "metadata": {
    "colab": {
     "base_uri": "https://localhost:8080/"
    },
    "id": "C08s1pa4-xK5",
    "outputId": "a4ae00ab-ea20-4f6d-fcbd-84ad411846cf"
   },
   "outputs": [
    {
     "data": {
      "text/plain": [
       "S1F0FGBQ    304\n",
       "W1F0SJJ2    304\n",
       "Z1F0GE1M    304\n",
       "Z1F0KJDS    304\n",
       "Z1F0KKN4    304\n",
       "W1F0JY02    304\n",
       "W1F0JXDL    304\n",
       "W1F0JH87    304\n",
       "S1F0E9EP    304\n",
       "W1F0G9T7    304\n",
       "Name: device, dtype: int64"
      ]
     },
     "execution_count": 10,
     "metadata": {},
     "output_type": "execute_result"
    }
   ],
   "source": [
    "# Checking the most frequent devices in the dataset.\n",
    "failure_data[\"device\"].value_counts().head(10)"
   ]
  },
  {
   "cell_type": "code",
   "execution_count": 11,
   "metadata": {
    "colab": {
     "base_uri": "https://localhost:8080/",
     "height": 363
    },
    "id": "DgFQwm86-xK5",
    "outputId": "8d34d915-8fa6-4a9e-f86b-ffcedf4c2a3c"
   },
   "outputs": [
    {
     "data": {
      "text/html": [
       "<div>\n",
       "<style scoped>\n",
       "    .dataframe tbody tr th:only-of-type {\n",
       "        vertical-align: middle;\n",
       "    }\n",
       "\n",
       "    .dataframe tbody tr th {\n",
       "        vertical-align: top;\n",
       "    }\n",
       "\n",
       "    .dataframe thead th {\n",
       "        text-align: right;\n",
       "    }\n",
       "</style>\n",
       "<table border=\"1\" class=\"dataframe\">\n",
       "  <thead>\n",
       "    <tr style=\"text-align: right;\">\n",
       "      <th></th>\n",
       "      <th>failure</th>\n",
       "      <th>attribute1</th>\n",
       "      <th>attribute2</th>\n",
       "      <th>attribute3</th>\n",
       "      <th>attribute4</th>\n",
       "      <th>attribute5</th>\n",
       "      <th>attribute6</th>\n",
       "      <th>attribute7</th>\n",
       "      <th>attribute8</th>\n",
       "      <th>attribute9</th>\n",
       "    </tr>\n",
       "  </thead>\n",
       "  <tbody>\n",
       "    <tr>\n",
       "      <th>failure</th>\n",
       "      <td>1.000000</td>\n",
       "      <td>0.001984</td>\n",
       "      <td>0.052902</td>\n",
       "      <td>-0.000948</td>\n",
       "      <td>0.067398</td>\n",
       "      <td>0.002270</td>\n",
       "      <td>-0.000550</td>\n",
       "      <td>0.119055</td>\n",
       "      <td>0.119055</td>\n",
       "      <td>0.001622</td>\n",
       "    </tr>\n",
       "    <tr>\n",
       "      <th>attribute1</th>\n",
       "      <td>0.001984</td>\n",
       "      <td>1.000000</td>\n",
       "      <td>-0.004248</td>\n",
       "      <td>0.003702</td>\n",
       "      <td>0.001837</td>\n",
       "      <td>-0.003370</td>\n",
       "      <td>-0.001516</td>\n",
       "      <td>0.000151</td>\n",
       "      <td>0.000151</td>\n",
       "      <td>0.001122</td>\n",
       "    </tr>\n",
       "    <tr>\n",
       "      <th>attribute2</th>\n",
       "      <td>0.052902</td>\n",
       "      <td>-0.004248</td>\n",
       "      <td>1.000000</td>\n",
       "      <td>-0.002617</td>\n",
       "      <td>0.146593</td>\n",
       "      <td>-0.013999</td>\n",
       "      <td>-0.026350</td>\n",
       "      <td>0.141367</td>\n",
       "      <td>0.141367</td>\n",
       "      <td>-0.002736</td>\n",
       "    </tr>\n",
       "    <tr>\n",
       "      <th>attribute3</th>\n",
       "      <td>-0.000948</td>\n",
       "      <td>0.003702</td>\n",
       "      <td>-0.002617</td>\n",
       "      <td>1.000000</td>\n",
       "      <td>0.097452</td>\n",
       "      <td>-0.006696</td>\n",
       "      <td>0.009027</td>\n",
       "      <td>-0.001884</td>\n",
       "      <td>-0.001884</td>\n",
       "      <td>0.532366</td>\n",
       "    </tr>\n",
       "    <tr>\n",
       "      <th>attribute4</th>\n",
       "      <td>0.067398</td>\n",
       "      <td>0.001837</td>\n",
       "      <td>0.146593</td>\n",
       "      <td>0.097452</td>\n",
       "      <td>1.000000</td>\n",
       "      <td>-0.009773</td>\n",
       "      <td>0.024870</td>\n",
       "      <td>0.045631</td>\n",
       "      <td>0.045631</td>\n",
       "      <td>0.036069</td>\n",
       "    </tr>\n",
       "    <tr>\n",
       "      <th>attribute5</th>\n",
       "      <td>0.002270</td>\n",
       "      <td>-0.003370</td>\n",
       "      <td>-0.013999</td>\n",
       "      <td>-0.006696</td>\n",
       "      <td>-0.009773</td>\n",
       "      <td>1.000000</td>\n",
       "      <td>-0.017051</td>\n",
       "      <td>-0.009384</td>\n",
       "      <td>-0.009384</td>\n",
       "      <td>0.005949</td>\n",
       "    </tr>\n",
       "    <tr>\n",
       "      <th>attribute6</th>\n",
       "      <td>-0.000550</td>\n",
       "      <td>-0.001516</td>\n",
       "      <td>-0.026350</td>\n",
       "      <td>0.009027</td>\n",
       "      <td>0.024870</td>\n",
       "      <td>-0.017051</td>\n",
       "      <td>1.000000</td>\n",
       "      <td>-0.012207</td>\n",
       "      <td>-0.012207</td>\n",
       "      <td>0.021152</td>\n",
       "    </tr>\n",
       "    <tr>\n",
       "      <th>attribute7</th>\n",
       "      <td>0.119055</td>\n",
       "      <td>0.000151</td>\n",
       "      <td>0.141367</td>\n",
       "      <td>-0.001884</td>\n",
       "      <td>0.045631</td>\n",
       "      <td>-0.009384</td>\n",
       "      <td>-0.012207</td>\n",
       "      <td>1.000000</td>\n",
       "      <td>1.000000</td>\n",
       "      <td>0.006861</td>\n",
       "    </tr>\n",
       "    <tr>\n",
       "      <th>attribute8</th>\n",
       "      <td>0.119055</td>\n",
       "      <td>0.000151</td>\n",
       "      <td>0.141367</td>\n",
       "      <td>-0.001884</td>\n",
       "      <td>0.045631</td>\n",
       "      <td>-0.009384</td>\n",
       "      <td>-0.012207</td>\n",
       "      <td>1.000000</td>\n",
       "      <td>1.000000</td>\n",
       "      <td>0.006861</td>\n",
       "    </tr>\n",
       "    <tr>\n",
       "      <th>attribute9</th>\n",
       "      <td>0.001622</td>\n",
       "      <td>0.001122</td>\n",
       "      <td>-0.002736</td>\n",
       "      <td>0.532366</td>\n",
       "      <td>0.036069</td>\n",
       "      <td>0.005949</td>\n",
       "      <td>0.021152</td>\n",
       "      <td>0.006861</td>\n",
       "      <td>0.006861</td>\n",
       "      <td>1.000000</td>\n",
       "    </tr>\n",
       "  </tbody>\n",
       "</table>\n",
       "</div>"
      ],
      "text/plain": [
       "             failure  attribute1  attribute2  attribute3  attribute4  \\\n",
       "failure     1.000000    0.001984    0.052902   -0.000948    0.067398   \n",
       "attribute1  0.001984    1.000000   -0.004248    0.003702    0.001837   \n",
       "attribute2  0.052902   -0.004248    1.000000   -0.002617    0.146593   \n",
       "attribute3 -0.000948    0.003702   -0.002617    1.000000    0.097452   \n",
       "attribute4  0.067398    0.001837    0.146593    0.097452    1.000000   \n",
       "attribute5  0.002270   -0.003370   -0.013999   -0.006696   -0.009773   \n",
       "attribute6 -0.000550   -0.001516   -0.026350    0.009027    0.024870   \n",
       "attribute7  0.119055    0.000151    0.141367   -0.001884    0.045631   \n",
       "attribute8  0.119055    0.000151    0.141367   -0.001884    0.045631   \n",
       "attribute9  0.001622    0.001122   -0.002736    0.532366    0.036069   \n",
       "\n",
       "            attribute5  attribute6  attribute7  attribute8  attribute9  \n",
       "failure       0.002270   -0.000550    0.119055    0.119055    0.001622  \n",
       "attribute1   -0.003370   -0.001516    0.000151    0.000151    0.001122  \n",
       "attribute2   -0.013999   -0.026350    0.141367    0.141367   -0.002736  \n",
       "attribute3   -0.006696    0.009027   -0.001884   -0.001884    0.532366  \n",
       "attribute4   -0.009773    0.024870    0.045631    0.045631    0.036069  \n",
       "attribute5    1.000000   -0.017051   -0.009384   -0.009384    0.005949  \n",
       "attribute6   -0.017051    1.000000   -0.012207   -0.012207    0.021152  \n",
       "attribute7   -0.009384   -0.012207    1.000000    1.000000    0.006861  \n",
       "attribute8   -0.009384   -0.012207    1.000000    1.000000    0.006861  \n",
       "attribute9    0.005949    0.021152    0.006861    0.006861    1.000000  "
      ]
     },
     "execution_count": 11,
     "metadata": {},
     "output_type": "execute_result"
    }
   ],
   "source": [
    "# Printing the correlation between attributes.\n",
    "failure_data.corr()"
   ]
  },
  {
   "cell_type": "code",
   "execution_count": 12,
   "metadata": {
    "colab": {
     "base_uri": "https://localhost:8080/",
     "height": 500
    },
    "id": "KYEbKZSH-xK6",
    "outputId": "fb63ec69-ce89-43e3-f931-40ee53710147"
   },
   "outputs": [
    {
     "data": {
      "image/png": "[encoded data removed]",
      "text/plain": [
       "<Figure size 864x576 with 2 Axes>"
      ]
     },
     "metadata": {},
     "output_type": "display_data"
    }
   ],
   "source": [
    "# Visualizing the correlations between attributes using heatmap.\n",
    "plt.figure(figsize=(12, 8))\n",
    "sns.heatmap(failure_data.corr(), cmap=\"Paired\", annot=True, vmin=0, vmax=0.2, linewidths=1)\n",
    "plt.title(\"Heatmap for correlations between attributes\")\n",
    "plt.show()"
   ]
  },
  {
   "cell_type": "markdown",
   "metadata": {},
   "source": [
    "We can see from the correlation chart that attributes 7 and attribute have a correlation of 1 which means they are same. Also, there's not much correlation between the rest of them."
   ]
  },
  {
   "cell_type": "code",
   "execution_count": 13,
   "metadata": {
    "colab": {
     "base_uri": "https://localhost:8080/"
    },
    "id": "Ui6Ugqw6-xK7",
    "outputId": "8c219c63-03ff-4dc2-ef73-f79337f933a5"
   },
   "outputs": [
    {
     "data": {
      "text/plain": [
       "True"
      ]
     },
     "execution_count": 13,
     "metadata": {},
     "output_type": "execute_result"
    }
   ],
   "source": [
    "# Looks like attribute 7 and attribute 8 are similar. Let's confirm the same.\n",
    "failure_data[\"attribute7\"].equals(failure_data[\"attribute8\"])"
   ]
  },
  {
   "cell_type": "code",
   "execution_count": 14,
   "metadata": {
    "id": "NjMqLs_0-xK8"
   },
   "outputs": [],
   "source": [
    "# Creating a seperate dataframe for records when the device has failed.\n",
    "failures = failure_data[failure_data[\"failure\"]== 1]"
   ]
  },
  {
   "cell_type": "code",
   "execution_count": 15,
   "metadata": {
    "colab": {
     "base_uri": "https://localhost:8080/",
     "height": 585
    },
    "id": "RrqthxcJ-xK9",
    "outputId": "44b2f5d4-3e07-45db-cd95-72d16ad32056"
   },
   "outputs": [
    {
     "data": {
      "image/png": "[encoded data removed]",
      "text/plain": [
       "<Figure size 864x576 with 4 Axes>"
      ]
     },
     "metadata": {},
     "output_type": "display_data"
    }
   ],
   "source": [
    "# Plotting a distplot to see the distribution of attribute 1 and attribute 6.\n",
    "fig, axes = plt.subplots(2, 2, figsize=(12, 8), sharey=False, sharex=False)\n",
    "fig.suptitle('Probability Distributions of Attribute 1 and Atrribute 6 based on Failure status', fontsize=15)\n",
    "\n",
    "sns.distplot(ax=axes[0, 0], a=failure_data[failure_data[\"failure\"]==0][\"attribute1\"], color = \"green\")\n",
    "axes[0, 0].set_title(\"Failure: No\")\n",
    "sns.distplot(ax=axes[0, 1], a=failure_data[failure_data[\"failure\"]== 1][\"attribute1\"], color=\"red\")\n",
    "axes[0, 1].set_title(\"Failure: Yes\")\n",
    "sns.distplot(ax=axes[1, 0], a=failure_data[failure_data[\"failure\"]==0][\"attribute6\"], color = \"blue\")\n",
    "axes[1, 0].set_title(\"Failure: No\")\n",
    "sns.distplot(ax=axes[1, 1], a=failure_data[failure_data[\"failure\"]== 1][\"attribute6\"], color=\"orange\")\n",
    "axes[1, 1].set_title(\"Failure: Yes\")\n",
    "fig.tight_layout()\n",
    "plt.show()\n"
   ]
  },
  {
   "cell_type": "code",
   "execution_count": 17,
   "metadata": {
    "colab": {
     "base_uri": "https://localhost:8080/",
     "height": 729
    },
    "id": "R5ac25Li-xK-",
    "outputId": "bc46845d-02db-46c8-bf58-5a35f3f78365"
   },
   "outputs": [
    {
     "data": {
      "image/png": "[encoded data removed]",
      "text/plain": [
       "<Figure size 1080x720 with 6 Axes>"
      ]
     },
     "metadata": {},
     "output_type": "display_data"
    }
   ],
   "source": [
    "# Checking probability distributions for attributes 2, 3, 4, 5, 8 and 9 when failure is 1.\n",
    "fig, axes = plt.subplots(2, 3, figsize=(15, 10), sharey=False, sharex=False)\n",
    "fig.suptitle('Frequency distribution of other attributes when the device failure status = 1', fontsize=15)\n",
    "\n",
    "sns.histplot(ax=axes[0, 0], data=failures,x=\"attribute2\", kde=True, bins=15, color=\"yellow\")\n",
    "axes[0, 0].set_title(\"Attribute 2\")\n",
    "axes[0, 0].set_xlabel(None)\n",
    "sns.histplot(ax=axes[0, 1], data=failures, x=\"attribute3\", kde=True, bins=15, color=\"violet\")\n",
    "axes[0, 1].set_title(\"Attribute 3\")\n",
    "axes[0, 1].set_xlabel(None)\n",
    "sns.histplot(ax=axes[0, 2], data=failures, x=\"attribute4\", kde=True, bins=15, color=\"red\")\n",
    "axes[0, 2].set_title(\"Attribute 4\")\n",
    "axes[0, 2].set_xlabel(None)\n",
    "sns.histplot(ax=axes[1, 0], data=failures, x=\"attribute5\", kde=True, bins=15, color=\"green\")\n",
    "axes[1, 0].set_title(\"Attribute 5\")\n",
    "axes[1, 0].set_xlabel(None)\n",
    "sns.histplot(ax=axes[1, 1], data=failures, x=\"attribute8\", kde=True, bins=15, color=\"orange\")\n",
    "axes[1, 1].set_title(\"Attribute 8\")\n",
    "axes[1, 1].set_xlabel(None)\n",
    "sns.histplot(ax=axes[1, 2], data=failures,x=\"attribute9\", kde=True, bins=15, color=\"blue\")\n",
    "axes[1, 2].set_title(\"Attribute 9\")\n",
    "axes[1, 2].set_xlabel(None)\n",
    "fig.tight_layout()\n",
    "plt.show()"
   ]
  },
  {
   "cell_type": "markdown",
   "metadata": {},
   "source": [
    "Looks like only the attribute1 and attribute6 from our given dataset are normally distributed. But the rest of the attributes don't have a valid distribution as the data is skewed. But, if we take a look at the boxplot of these attributes to check for outliers, there are just too many for them to be removed. They could be useful features for detecting device failures, so we are just going to keep them all. Also, since all the attributes are of different scales, we can fix that by performing Standardization and Normalization."
   ]
  },
  {
   "cell_type": "code",
   "execution_count": 16,
   "metadata": {
    "colab": {
     "base_uri": "https://localhost:8080/"
    },
    "id": "oGhedzNY-xK_",
    "outputId": "92f365c9-6744-432f-957b-aa1f11f5f182"
   },
   "outputs": [
    {
     "data": {
      "text/plain": [
       "304"
      ]
     },
     "execution_count": 16,
     "metadata": {},
     "output_type": "execute_result"
    }
   ],
   "source": [
    "# Let's check out the date column in more detail.\n",
    "failure_data[\"date\"].nunique()"
   ]
  },
  {
   "cell_type": "code",
   "execution_count": 17,
   "metadata": {
    "colab": {
     "base_uri": "https://localhost:8080/"
    },
    "id": "Al-M0P_y-xLA",
    "outputId": "3acd8717-eab0-45c1-e320-9ce52027c903"
   },
   "outputs": [
    {
     "name": "stdout",
     "output_type": "stream",
     "text": [
      "Earliest date:  2015-01-01 00:00:00\n",
      "Latest date:  2015-11-02 00:00:00\n"
     ]
    }
   ],
   "source": [
    "# Checking the earliest and latest date available in our dataset.\n",
    "print(\"Earliest date: \",failure_data[\"date\"].min())\n",
    "print(\"Latest date: \",failure_data[\"date\"].max())"
   ]
  },
  {
   "cell_type": "code",
   "execution_count": 25,
   "metadata": {
    "id": "ckOtgqno-xLB"
   },
   "outputs": [],
   "source": [
    "# Assuming we have records of device from the day it was set up, creating a device uptime (in days) column.\n",
    "failure_data.sort_values(by=[\"device\", \"date\"], inplace=True)\n",
    "failure_data[\"device_uptime\"] = failure_data.groupby(by=\"device\")[\"date\"].rank(method=\"dense\")"
   ]
  },
  {
   "cell_type": "code",
   "execution_count": 19,
   "metadata": {
    "colab": {
     "base_uri": "https://localhost:8080/",
     "height": 391
    },
    "id": "klqES8Uf-xLB",
    "outputId": "10e798f3-166d-48a4-cc91-f8e81ebc44f3"
   },
   "outputs": [
    {
     "data": {
      "image/png": "[encoded data removed]",
      "text/plain": [
       "<Figure size 720x432 with 1 Axes>"
      ]
     },
     "metadata": {},
     "output_type": "display_data"
    }
   ],
   "source": [
    "# Checking the frequency of device failures based on their uptime\n",
    "plt.figure(figsize=(10, 6))\n",
    "sns.lineplot(data=failure_data[failure_data[\"failure\"] == 1], x=\"device_uptime\", y=\"failure\", marker=\"o\", linestyle='', color=\"red\")\n",
    "plt.show()"
   ]
  },
  {
   "cell_type": "code",
   "execution_count": 26,
   "metadata": {
    "colab": {
     "base_uri": "https://localhost:8080/",
     "height": 206
    },
    "id": "0hheYXHb-xLC",
    "outputId": "c330b5ce-9ad7-47e7-fe50-112836896e20"
   },
   "outputs": [
    {
     "data": {
      "text/html": [
       "<div>\n",
       "<style scoped>\n",
       "    .dataframe tbody tr th:only-of-type {\n",
       "        vertical-align: middle;\n",
       "    }\n",
       "\n",
       "    .dataframe tbody tr th {\n",
       "        vertical-align: top;\n",
       "    }\n",
       "\n",
       "    .dataframe thead th {\n",
       "        text-align: right;\n",
       "    }\n",
       "</style>\n",
       "<table border=\"1\" class=\"dataframe\">\n",
       "  <thead>\n",
       "    <tr style=\"text-align: right;\">\n",
       "      <th></th>\n",
       "      <th>failure</th>\n",
       "      <th>attribute1</th>\n",
       "      <th>attribute2</th>\n",
       "      <th>attribute3</th>\n",
       "      <th>attribute4</th>\n",
       "      <th>attribute5</th>\n",
       "      <th>attribute6</th>\n",
       "      <th>attribute8</th>\n",
       "      <th>attribute9</th>\n",
       "    </tr>\n",
       "  </thead>\n",
       "  <tbody>\n",
       "    <tr>\n",
       "      <th>0</th>\n",
       "      <td>0</td>\n",
       "      <td>215630672</td>\n",
       "      <td>56</td>\n",
       "      <td>0</td>\n",
       "      <td>52</td>\n",
       "      <td>6</td>\n",
       "      <td>407438</td>\n",
       "      <td>0</td>\n",
       "      <td>7</td>\n",
       "    </tr>\n",
       "    <tr>\n",
       "      <th>1163</th>\n",
       "      <td>0</td>\n",
       "      <td>1650864</td>\n",
       "      <td>56</td>\n",
       "      <td>0</td>\n",
       "      <td>52</td>\n",
       "      <td>6</td>\n",
       "      <td>407438</td>\n",
       "      <td>0</td>\n",
       "      <td>7</td>\n",
       "    </tr>\n",
       "    <tr>\n",
       "      <th>2326</th>\n",
       "      <td>0</td>\n",
       "      <td>124017368</td>\n",
       "      <td>56</td>\n",
       "      <td>0</td>\n",
       "      <td>52</td>\n",
       "      <td>6</td>\n",
       "      <td>407438</td>\n",
       "      <td>0</td>\n",
       "      <td>7</td>\n",
       "    </tr>\n",
       "    <tr>\n",
       "      <th>3489</th>\n",
       "      <td>0</td>\n",
       "      <td>128073224</td>\n",
       "      <td>56</td>\n",
       "      <td>0</td>\n",
       "      <td>52</td>\n",
       "      <td>6</td>\n",
       "      <td>407439</td>\n",
       "      <td>0</td>\n",
       "      <td>7</td>\n",
       "    </tr>\n",
       "    <tr>\n",
       "      <th>4651</th>\n",
       "      <td>0</td>\n",
       "      <td>97393448</td>\n",
       "      <td>56</td>\n",
       "      <td>0</td>\n",
       "      <td>52</td>\n",
       "      <td>6</td>\n",
       "      <td>408114</td>\n",
       "      <td>0</td>\n",
       "      <td>7</td>\n",
       "    </tr>\n",
       "  </tbody>\n",
       "</table>\n",
       "</div>"
      ],
      "text/plain": [
       "      failure  attribute1  attribute2  attribute3  attribute4  attribute5  \\\n",
       "0           0   215630672          56           0          52           6   \n",
       "1163        0     1650864          56           0          52           6   \n",
       "2326        0   124017368          56           0          52           6   \n",
       "3489        0   128073224          56           0          52           6   \n",
       "4651        0    97393448          56           0          52           6   \n",
       "\n",
       "      attribute6  attribute8  attribute9  \n",
       "0         407438           0           7  \n",
       "1163      407438           0           7  \n",
       "2326      407438           0           7  \n",
       "3489      407439           0           7  \n",
       "4651      408114           0           7  "
      ]
     },
     "execution_count": 26,
     "metadata": {},
     "output_type": "execute_result"
    }
   ],
   "source": [
    "# Looks like there is not much of correlation between the uptime and failure of devices.\n",
    "# Also, assuming here that devices are of the same type. \n",
    "# Dropping the non-required columns from our dataset.\n",
    "failure_data.drop([\"attribute7\", \"device\", \"device_uptime\", \"date\"], axis=1, inplace=True)\n",
    "failure_data.head(5)"
   ]
  },
  {
   "cell_type": "markdown",
   "metadata": {},
   "source": [
    "### 4. Data Preprocessing <a name = \"preprocessing\"></a>"
   ]
  },
  {
   "cell_type": "code",
   "execution_count": 27,
   "metadata": {
    "colab": {
     "base_uri": "https://localhost:8080/"
    },
    "id": "p105LJyC-xLD",
    "outputId": "6b131052-178b-4be7-9328-bf6f2449e4c3"
   },
   "outputs": [
    {
     "name": "stdout",
     "output_type": "stream",
     "text": [
      "Shape of X:  (124494, 8)\n",
      "Shape of y:  (124494,)\n"
     ]
    }
   ],
   "source": [
    "# Creating array of independent variables and target.\n",
    "X = failure_data.drop(\"failure\", axis=1)\n",
    "y = failure_data.iloc[:, 0]\n",
    "print(\"Shape of X: \", X.shape)\n",
    "print(\"Shape of y: \", y.shape)"
   ]
  },
  {
   "cell_type": "code",
   "execution_count": 28,
   "metadata": {
    "colab": {
     "base_uri": "https://localhost:8080/"
    },
    "id": "HeCYYOAR-xLD",
    "outputId": "89254168-05d5-4a01-fd2d-b330d848479e"
   },
   "outputs": [
    {
     "name": "stdout",
     "output_type": "stream",
     "text": [
      "Counter({0: 99510, 1: 85})\n",
      "Counter({0: 24878, 1: 21})\n"
     ]
    }
   ],
   "source": [
    "# Splitting the dataset into training and testing sets.\n",
    "X_train, X_test, y_train, y_test = train_test_split(X, y, test_size=0.2, random_state=42, shuffle=True, stratify=y)\n",
    "print(Counter(y_train))\n",
    "print(Counter(y_test))"
   ]
  },
  {
   "cell_type": "markdown",
   "metadata": {},
   "source": [
    "Our dataset is severely imbalanced and to tackle this issue, we'll be using SMOTE for oversampling followed by random undersampling to get the right amount of data for training our model."
   ]
  },
  {
   "cell_type": "code",
   "execution_count": 29,
   "metadata": {
    "id": "2V8X9wWh-xLE"
   },
   "outputs": [],
   "source": [
    "# Creating a SMOTE based sampler.\n",
    "smote = SMOTE(sampling_strategy=0.1)\n",
    "under = RandomUnderSampler(sampling_strategy=0.75)"
   ]
  },
  {
   "cell_type": "code",
   "execution_count": 30,
   "metadata": {
    "id": "4uMwsRHC-xLE"
   },
   "outputs": [],
   "source": [
    "# Creating an imblearn pipeline to perform SMOTE followed by undersampling\n",
    "from imblearn.pipeline import Pipeline\n",
    "sampling_pipeline = Pipeline([\n",
    "    (\"smote\", smote),\n",
    "    (\"under_sampling\", under)\n",
    "])"
   ]
  },
  {
   "cell_type": "code",
   "execution_count": 31,
   "metadata": {
    "colab": {
     "base_uri": "https://localhost:8080/"
    },
    "id": "LobmOqxu-xLE",
    "outputId": "517883ec-9dc9-4e74-f7d2-3f379dbc5bcb"
   },
   "outputs": [
    {
     "name": "stdout",
     "output_type": "stream",
     "text": [
      "Number of training samples before resampling:  Counter({0: 99510, 1: 85})\n",
      "Number of training samples after resampling:  Counter({0: 13268, 1: 9951})\n"
     ]
    }
   ],
   "source": [
    "# Resampling the training dataset to tackle imbalance problem\n",
    "X_train_rs, y_train_rs = sampling_pipeline.fit_resample(X_train, y_train)\n",
    "print(\"Number of training samples before resampling: \", Counter(y_train))\n",
    "print(\"Number of training samples after resampling: \", Counter(y_train_rs))"
   ]
  },
  {
   "cell_type": "code",
   "execution_count": 32,
   "metadata": {
    "id": "1U7eTgCa-xLF"
   },
   "outputs": [],
   "source": [
    "# Making a list of attributes that needs to be scaled via normalization/standardization.\n",
    "std_attributes = [\"attribute2\", \"attribute3\", \"attribute4\", \"attribute5\", \"attribute8\", \"attribute9\"]\n",
    "min_max_attributes = [\"attribute1\", \"attribute6\"]"
   ]
  },
  {
   "cell_type": "code",
   "execution_count": 34,
   "metadata": {
    "id": "3GvFl66J-xLG"
   },
   "outputs": [],
   "source": [
    "# Building a columntransformer pipeline for data preprocessing\n",
    "preprocessing_pipeline = ColumnTransformer([\n",
    "    (\"std_scaler\", StandardScaler(), std_attributes),\n",
    "    (\"min_max_scaler\", MinMaxScaler(), min_max_attributes)\n",
    "])"
   ]
  },
  {
   "cell_type": "markdown",
   "metadata": {},
   "source": [
    "### 5. Model Building <a name = \"model-building\"></a>"
   ]
  },
  {
   "cell_type": "markdown",
   "metadata": {},
   "source": [
    "Since our test dataset is highly imbalanced ie. the chances of failure are less, evaluating the model based on accuracy is not a good idea. Instead, we'll be focusing on the ROC-AUC curve as a performance metric when it comes to solving our problem. Also, an output in the form of probability is required by the team."
   ]
  },
  {
   "cell_type": "code",
   "execution_count": 33,
   "metadata": {
    "id": "wEUjGv-S-xLF"
   },
   "outputs": [],
   "source": [
    "# create a Stratified K_fold split\n",
    "cv = StratifiedKFold(n_splits=10, random_state=42, shuffle=True)"
   ]
  },
  {
   "cell_type": "code",
   "execution_count": 35,
   "metadata": {
    "id": "U4TC8u5r-xLG"
   },
   "outputs": [],
   "source": [
    "# Creating a function to display scores\n",
    "def display_scores(scores):\n",
    "    print(\"ROC-AUC Scores: \", scores)\n",
    "    print(\"ROC-AUC Mean: \", scores.mean())\n",
    "    print(\"ROC-AUC SD: \", scores.std())"
   ]
  },
  {
   "cell_type": "code",
   "execution_count": 36,
   "metadata": {
    "id": "yD8rHZZK-xLG"
   },
   "outputs": [],
   "source": [
    "# a function to print all metrics of results on test set\n",
    "def print_metrics(prediction):\n",
    "    print(\"Accuracy: \", round(accuracy_score(y_test, prediction), 2))\n",
    "    print(\"ROC-AUC score: \", round(roc_auc_score(y_test, prediction), 2))\n",
    "    print(\"F1-score: \", round(f1_score(y_test, prediction, average=\"macro\"), 2))\n",
    "    print(\"Precision: \", round(precision_score(y_test, prediction, average=\"macro\"), 2))\n",
    "    print(\"Recall: \", round(recall_score(y_test, prediction, average=\"macro\"), 2))\n",
    "    print(\"---------------------------\")\n",
    "    print(confusion_matrix(y_test, prediction))\n",
    "    print(\"---------------------------\")\n",
    "    print(classification_report(y_test, prediction))"
   ]
  },
  {
   "cell_type": "markdown",
   "metadata": {},
   "source": [
    "#### 5.1 Logistic Regression <a name = \"LR\"></a>"
   ]
  },
  {
   "cell_type": "code",
   "execution_count": 194,
   "metadata": {
    "id": "EwYdBCWR-xLH"
   },
   "outputs": [],
   "source": [
    "# Let's first build a Simple Logistic regression Model\n",
    "lr_pipeline = Pipeline([\n",
    "    (\"preprocess\", StandardScaler()),\n",
    "    (\"lr\", LogisticRegression(solver=\"saga\", max_iter=1000, class_weight=\"balanced\"))\n",
    "])\n",
    "\n",
    "scores = cross_val_score(lr_pipeline, X_train_rs, y_train_rs, scoring=\"roc_auc\", cv=cv)"
   ]
  },
  {
   "cell_type": "code",
   "execution_count": 195,
   "metadata": {
    "colab": {
     "base_uri": "https://localhost:8080/"
    },
    "id": "FmdCl3R7-xLH",
    "outputId": "8ccc59ff-6d70-4093-ae18-d848172716e7"
   },
   "outputs": [
    {
     "name": "stdout",
     "output_type": "stream",
     "text": [
      "ROC-AUC Scores:  [0.91379126 0.89983754 0.91252192 0.90243304 0.89807818 0.90417574\n",
      " 0.91410027 0.91119653 0.90238783 0.91200346]\n",
      "ROC-AUC Mean:  0.9070525766031791\n",
      "ROC-AUC SD:  0.0059215674852855765\n"
     ]
    }
   ],
   "source": [
    "# Checking out the scores for our Logistic Regression Model\n",
    "display_scores(scores)"
   ]
  },
  {
   "cell_type": "code",
   "execution_count": 39,
   "metadata": {
    "id": "mISs5PtE_z0f"
   },
   "outputs": [],
   "source": [
    "# Create a param_grid with values for tuning hyperparameters\n",
    "lr_param_grid = [{'lr__solver': ['newton-cg', 'lbfgs', 'saga', 'sag'], 'lr__penalty' : ['none', 'l1', 'l2', 'elasticnet'], \n",
    "                    'lr__C' : 10.0 **np.arange(-2,3)}]"
   ]
  },
  {
   "cell_type": "code",
   "execution_count": null,
   "metadata": {
    "id": "IWa-bNIIAxWa"
   },
   "outputs": [],
   "source": [
    "# Creating a gridsearchCV for Logistic Regression model\n",
    "lr_pipeline = Pipeline([\n",
    "    (\"preprocess\", StandardScaler()),\n",
    "    (\"lr\", LogisticRegression(max_iter=1000, class_weight=\"balanced\"))\n",
    "])\n",
    "\n",
    "grid_search = GridSearchCV(lr_pipeline, lr_param_grid, cv=cv, scoring=\"roc_auc\", return_train_score=True, n_jobs=-1)\n",
    "grid_search.fit(X_train_rs, y_train_rs)"
   ]
  },
  {
   "cell_type": "code",
   "execution_count": 41,
   "metadata": {
    "colab": {
     "base_uri": "https://localhost:8080/"
    },
    "id": "JTOqiRoDB_mk",
    "outputId": "542878b0-ac8b-4d36-ca1c-2090987a9408"
   },
   "outputs": [
    {
     "data": {
      "text/plain": [
       "{'lr__C': 0.01, 'lr__penalty': 'l1', 'lr__solver': 'saga'}"
      ]
     },
     "execution_count": 41,
     "metadata": {},
     "output_type": "execute_result"
    }
   ],
   "source": [
    "# checking the model's best performing hyperparameters\n",
    "grid_search.best_params_"
   ]
  },
  {
   "cell_type": "code",
   "execution_count": 42,
   "metadata": {
    "colab": {
     "base_uri": "https://localhost:8080/"
    },
    "id": "5yXsduh9CDyt",
    "outputId": "4c77e851-e7ea-400a-b8b4-0c35963c808c"
   },
   "outputs": [
    {
     "data": {
      "text/plain": [
       "0.9107042924605169"
      ]
     },
     "execution_count": 42,
     "metadata": {},
     "output_type": "execute_result"
    }
   ],
   "source": [
    "# checking the model's best score\n",
    "grid_search.best_score_"
   ]
  },
  {
   "cell_type": "code",
   "execution_count": 43,
   "metadata": {
    "colab": {
     "base_uri": "https://localhost:8080/"
    },
    "id": "rTANmsu4Fq2s",
    "outputId": "0fb352fc-d6db-461a-93ae-a007521d2ccb"
   },
   "outputs": [
    {
     "name": "stdout",
     "output_type": "stream",
     "text": [
      "Accuracy:  0.97\n",
      "ROC-AUC score:  0.8\n",
      "F1-score:  0.51\n",
      "Precision:  0.51\n",
      "Recall:  0.8\n",
      "---------------------------\n",
      "[[24191   687]\n",
      " [    8    13]]\n",
      "---------------------------\n",
      "              precision    recall  f1-score   support\n",
      "\n",
      "           0       1.00      0.97      0.99     24878\n",
      "           1       0.02      0.62      0.04        21\n",
      "\n",
      "    accuracy                           0.97     24899\n",
      "   macro avg       0.51      0.80      0.51     24899\n",
      "weighted avg       1.00      0.97      0.99     24899\n",
      "\n"
     ]
    }
   ],
   "source": [
    "# Selecting the model with best parameters\n",
    "final_lr_model = grid_search.best_estimator_\n",
    "\n",
    "# Checking the model performance on test data\n",
    "y_pred_lr = final_lr_model.predict(X_test)\n",
    "print_metrics(y_pred_lr)"
   ]
  },
  {
   "cell_type": "markdown",
   "metadata": {},
   "source": [
    "#### 5.2 Random Forest Classifier <a name = \"RF\"></a>"
   ]
  },
  {
   "cell_type": "code",
   "execution_count": 44,
   "metadata": {
    "id": "RsCm-WAm-xLJ"
   },
   "outputs": [],
   "source": [
    "# Let's now build a Random Forest classifier Model\n",
    "rf_pipeline = Pipeline([\n",
    "    (\"preprocess\", preprocessing_pipeline),\n",
    "    (\"rf\", RandomForestClassifier(n_estimators=200, class_weight=\"balanced\"))\n",
    "])\n",
    "\n",
    "scores = cross_val_score(rf_pipeline, X_train_rs, y_train_rs, scoring=\"roc_auc\", cv=cv)"
   ]
  },
  {
   "cell_type": "code",
   "execution_count": 45,
   "metadata": {
    "id": "om6TRPxs-xLK",
    "outputId": "a1459e2c-d813-468a-90ef-6bb65ffaaeb6"
   },
   "outputs": [
    {
     "name": "stdout",
     "output_type": "stream",
     "text": [
      "ROC-AUC Scores:  [0.99973113 0.99985421 0.99951945 0.99949029 0.99950393 0.9996713\n",
      " 0.9997815  0.99972621 0.99959226 0.99965135]\n",
      "ROC-AUC Mean:  0.9996521634588769\n",
      "ROC-AUC SD:  0.00011790417941894849\n"
     ]
    }
   ],
   "source": [
    "# Checking out the scores for our Random Forest Model\n",
    "display_scores(scores)"
   ]
  },
  {
   "cell_type": "code",
   "execution_count": 59,
   "metadata": {
    "id": "0tcI6H4FGlnY"
   },
   "outputs": [],
   "source": [
    "# Create a param_grid with values for tuning hyperparameters\n",
    "rf_param_grid = [{'rf__criterion': [\"gini\", \"entropy\"], 'rf__n_estimators': [100, 200], \n",
    "               'rf__max_depth': [10, 12], 'rf__max_features': [7, 8]}]"
   ]
  },
  {
   "cell_type": "code",
   "execution_count": null,
   "metadata": {
    "id": "N22DWw6ZG15K"
   },
   "outputs": [],
   "source": [
    "# Creating a gridsearchCV for randomforestModel\n",
    "rf_pipeline = Pipeline([\n",
    "    (\"preprocess\", preprocessing_pipeline),\n",
    "    (\"rf\", RandomForestClassifier(class_weight=\"balanced\") )\n",
    "])\n",
    "\n",
    "rf_grid_search = GridSearchCV(rf_pipeline, rf_param_grid, cv=cv, scoring=\"roc_auc\", return_train_score=True, n_jobs=-1)\n",
    "rf_grid_search.fit(X_train_rs, y_train_rs)"
   ]
  },
  {
   "cell_type": "code",
   "execution_count": 64,
   "metadata": {
    "colab": {
     "base_uri": "https://localhost:8080/"
    },
    "id": "67jYFN7_HA52",
    "outputId": "a8f0a9c2-37fd-4739-a2e4-eb49e71e2972"
   },
   "outputs": [
    {
     "data": {
      "text/plain": [
       "{'rf__criterion': 'entropy',\n",
       " 'rf__max_depth': 12,\n",
       " 'rf__max_features': 7,\n",
       " 'rf__n_estimators': 100}"
      ]
     },
     "execution_count": 64,
     "metadata": {},
     "output_type": "execute_result"
    }
   ],
   "source": [
    "# checking the model's best performing hyperparameters\n",
    "rf_grid_search.best_params_"
   ]
  },
  {
   "cell_type": "code",
   "execution_count": 65,
   "metadata": {
    "colab": {
     "base_uri": "https://localhost:8080/"
    },
    "id": "MlhouamzHETD",
    "outputId": "51fb5925-fb51-4a74-89a4-7d9a4f893713"
   },
   "outputs": [
    {
     "data": {
      "text/plain": [
       "0.998804953403724"
      ]
     },
     "execution_count": 65,
     "metadata": {},
     "output_type": "execute_result"
    }
   ],
   "source": [
    "# checking the model's best score\n",
    "rf_grid_search.best_score_"
   ]
  },
  {
   "cell_type": "code",
   "execution_count": 66,
   "metadata": {
    "colab": {
     "base_uri": "https://localhost:8080/"
    },
    "id": "oEvaAaOENZD4",
    "outputId": "a890cf13-0a3d-463b-d66f-f540e6fe71f0"
   },
   "outputs": [
    {
     "name": "stdout",
     "output_type": "stream",
     "text": [
      "Accuracy:  0.98\n",
      "ROC-AUC score:  0.63\n",
      "F1-score:  0.51\n",
      "Precision:  0.51\n",
      "Recall:  0.63\n",
      "---------------------------\n",
      "[[24422   456]\n",
      " [   15     6]]\n",
      "---------------------------\n",
      "              precision    recall  f1-score   support\n",
      "\n",
      "           0       1.00      0.98      0.99     24878\n",
      "           1       0.01      0.29      0.02        21\n",
      "\n",
      "    accuracy                           0.98     24899\n",
      "   macro avg       0.51      0.63      0.51     24899\n",
      "weighted avg       1.00      0.98      0.99     24899\n",
      "\n"
     ]
    }
   ],
   "source": [
    "# Selecting the model with best parameters\n",
    "final_rf_model = rf_grid_search.best_estimator_\n",
    "\n",
    "# Checking the model performance on test data\n",
    "y_pred_rf = final_rf_model.predict(X_test)\n",
    "print_metrics(y_pred_rf)"
   ]
  },
  {
   "cell_type": "markdown",
   "metadata": {},
   "source": [
    "#### 5.3 Extreme Gradient Boosting Classifier <a name = \"XGB\"></a>"
   ]
  },
  {
   "cell_type": "code",
   "execution_count": 110,
   "metadata": {
    "id": "oYjZ5Fx3-xLM"
   },
   "outputs": [],
   "source": [
    "# Finally, Let's try out the XGboost Classifier\n",
    "xgb_pipeline = Pipeline([\n",
    "    (\"preprocess\", preprocessing_pipeline),\n",
    "    (\"xgb\", XGBClassifier(n_estimators=1100, learning_rate = 0.001))\n",
    "])\n",
    "\n",
    "#scores = cross_val_score(xgb_pipeline, X_train_rs, y_train_rs, scoring=\"roc_auc\", cv=cv)"
   ]
  },
  {
   "cell_type": "code",
   "execution_count": 106,
   "metadata": {
    "id": "7gF_czXs-xLN",
    "outputId": "8383349c-0d97-48f9-97a7-549a94682f46"
   },
   "outputs": [
    {
     "name": "stdout",
     "output_type": "stream",
     "text": [
      "ROC-AUC Scores:  [0.99559629 0.99696296 0.99534598 0.99542513 0.99502297 0.99511423\n",
      " 0.99727954 0.99643356 0.99513173 0.99713234]\n",
      "ROC-AUC Mean:  0.9959444742989959\n",
      "ROC-AUC SD:  0.000861285393778778\n"
     ]
    }
   ],
   "source": [
    "display_scores(scores)"
   ]
  },
  {
   "cell_type": "code",
   "execution_count": null,
   "metadata": {},
   "outputs": [],
   "source": [
    "# Fitting the pipeline on the training data\n",
    "xgb_pipeline.fit(X_train_rs, y_train_rs)"
   ]
  },
  {
   "cell_type": "code",
   "execution_count": 112,
   "metadata": {},
   "outputs": [
    {
     "name": "stdout",
     "output_type": "stream",
     "text": [
      "Accuracy:  0.95\n",
      "ROC-AUC score:  0.81\n",
      "F1-score:  0.5\n",
      "Precision:  0.51\n",
      "Recall:  0.81\n",
      "---------------------------\n",
      "[[23705  1173]\n",
      " [    7    14]]\n",
      "---------------------------\n",
      "              precision    recall  f1-score   support\n",
      "\n",
      "           0       1.00      0.95      0.98     24878\n",
      "           1       0.01      0.67      0.02        21\n",
      "\n",
      "    accuracy                           0.95     24899\n",
      "   macro avg       0.51      0.81      0.50     24899\n",
      "weighted avg       1.00      0.95      0.97     24899\n",
      "\n"
     ]
    }
   ],
   "source": [
    "# Checking the model performance on test data\n",
    "y_pred_xgb = xgb_pipeline.predict(X_test)\n",
    "print_metrics(y_pred_xgb)"
   ]
  },
  {
   "cell_type": "markdown",
   "metadata": {},
   "source": [
    "#### 5.4 K Nearest Neighbors Classifier <a name = \"KNN\"></a>"
   ]
  },
  {
   "cell_type": "code",
   "execution_count": 133,
   "metadata": {
    "id": "dqZmyjs9-xLQ"
   },
   "outputs": [],
   "source": [
    "# Let's first build a K Nearerst Neigbors classifier Model\n",
    "knn_pipeline = Pipeline([\n",
    "    (\"preprocess\", preprocessing_pipeline),\n",
    "    (\"knn\", KNeighborsClassifier(n_neighbors=25))\n",
    "])\n",
    "\n",
    "scores = cross_val_score(knn_pipeline, X_train_rs, y_train_rs,scoring=\"roc_auc\", cv=cv)"
   ]
  },
  {
   "cell_type": "code",
   "execution_count": 134,
   "metadata": {
    "id": "G1rGa2fZ-xLR",
    "outputId": "4426d910-0099-401f-a1f6-9539ac680321"
   },
   "outputs": [
    {
     "name": "stdout",
     "output_type": "stream",
     "text": [
      "ROC-AUC Scores:  [0.9868347  0.98860807 0.98805671 0.98654349 0.98698201 0.98775111\n",
      " 0.99105664 0.98736751 0.98685731 0.9864549 ]\n",
      "ROC-AUC Mean:  0.987651245894529\n",
      "ROC-AUC SD:  0.001310359941735822\n"
     ]
    }
   ],
   "source": [
    "# Checking out the scores for our K Nearest Neigbors Model\n",
    "display_scores(scores)"
   ]
  },
  {
   "cell_type": "code",
   "execution_count": null,
   "metadata": {
    "id": "b0PQHz67-xLR"
   },
   "outputs": [],
   "source": [
    "# Fitting the pipeline on the training data\n",
    "knn_pipeline.fit(X_train_rs, y_train_rs)"
   ]
  },
  {
   "cell_type": "code",
   "execution_count": 185,
   "metadata": {
    "id": "GEN9x1G6-xLS",
    "outputId": "316ceffd-e890-4486-b961-84eed932b11c"
   },
   "outputs": [
    {
     "name": "stdout",
     "output_type": "stream",
     "text": [
      "Accuracy:  0.94\n",
      "ROC-AUC score:  0.85\n",
      "F1-score:  0.5\n",
      "Precision:  0.51\n",
      "Recall:  0.85\n",
      "---------------------------\n",
      "[[23427  1451]\n",
      " [    5    16]]\n",
      "---------------------------\n",
      "              precision    recall  f1-score   support\n",
      "\n",
      "           0       1.00      0.94      0.97     24878\n",
      "           1       0.01      0.76      0.02        21\n",
      "\n",
      "    accuracy                           0.94     24899\n",
      "   macro avg       0.51      0.85      0.50     24899\n",
      "weighted avg       1.00      0.94      0.97     24899\n",
      "\n"
     ]
    }
   ],
   "source": [
    "# Checking the model performance on test data\n",
    "y_pred_knn = knn_pipeline.predict(X_test)\n",
    "print_metrics(y_pred_knn)"
   ]
  },
  {
   "cell_type": "markdown",
   "metadata": {},
   "source": [
    "#### 5.5 Gradient Boosting Classifier <a name = \"GB\"></a>"
   ]
  },
  {
   "cell_type": "code",
   "execution_count": 159,
   "metadata": {
    "id": "XtYUQJt--xLT"
   },
   "outputs": [],
   "source": [
    "# Let's first build a GradientBoosting classifier Model\n",
    "gb_pipeline = Pipeline([\n",
    "    (\"preprocess\", preprocessing_pipeline),\n",
    "    (\"gb\", GradientBoostingClassifier(n_estimators=100, learning_rate = 0.01))\n",
    "])\n",
    "\n",
    "scores = cross_val_score(gb_pipeline, X_train_rs, y_train_rs,scoring=\"roc_auc\", cv=cv)"
   ]
  },
  {
   "cell_type": "code",
   "execution_count": 160,
   "metadata": {},
   "outputs": [
    {
     "name": "stdout",
     "output_type": "stream",
     "text": [
      "ROC-AUC Scores:  [0.96488244 0.95967744 0.96754685 0.95979786 0.95662449 0.95966949\n",
      " 0.96859315 0.96561368 0.95814745 0.96581171]\n",
      "ROC-AUC Mean:  0.9626364555141805\n",
      "ROC-AUC SD:  0.0040681200111274\n"
     ]
    }
   ],
   "source": [
    "# Checking out the scores for our K Nearest Neigbors Model\n",
    "display_scores(scores)"
   ]
  },
  {
   "cell_type": "code",
   "execution_count": null,
   "metadata": {},
   "outputs": [],
   "source": [
    "# Fitting the pipeline on the training data\n",
    "gb_pipeline.fit(X_train_rs, y_train_rs)"
   ]
  },
  {
   "cell_type": "code",
   "execution_count": 184,
   "metadata": {},
   "outputs": [
    {
     "name": "stdout",
     "output_type": "stream",
     "text": [
      "Accuracy:  0.94\n",
      "ROC-AUC score:  0.87\n",
      "F1-score:  0.49\n",
      "Precision:  0.51\n",
      "Recall:  0.87\n",
      "---------------------------\n",
      "[[23348  1530]\n",
      " [    4    17]]\n",
      "---------------------------\n",
      "              precision    recall  f1-score   support\n",
      "\n",
      "           0       1.00      0.94      0.97     24878\n",
      "           1       0.01      0.81      0.02        21\n",
      "\n",
      "    accuracy                           0.94     24899\n",
      "   macro avg       0.51      0.87      0.49     24899\n",
      "weighted avg       1.00      0.94      0.97     24899\n",
      "\n"
     ]
    }
   ],
   "source": [
    "# Checking the model performance on test data\n",
    "y_pred_gb = gb_pipeline.predict(X_test)\n",
    "print_metrics(y_pred_gb)"
   ]
  },
  {
   "cell_type": "markdown",
   "metadata": {},
   "source": [
    "As, we can see from the above results, Logistic Regression and Random Forest Classifier perform better when it comes to False positives, but RF fails when it comes to the True positives. On the contrary, XGboost Classifier, K Nearest Neighbors Classifier and Gradient Boosting perform really well for detecting the probability of device failures but fails severely because of the number of False Positives with a ROC-AUC Score of 0.81, 0.85 and 0.87 respectively. For this problem, I am assuming that predicting the true negative is also important since these devices can be still used without any worry. But more importantly, predicting the device failures i.e true positive is critical."
   ]
  },
  {
   "cell_type": "markdown",
   "metadata": {},
   "source": [
    "### 6. Model Saving <a name = \"model-saving\"></a>"
   ]
  },
  {
   "cell_type": "code",
   "execution_count": 192,
   "metadata": {},
   "outputs": [
    {
     "data": {
      "text/plain": [
       "['../models/xtreme_boosting_failure.pkl']"
      ]
     },
     "execution_count": 192,
     "metadata": {},
     "output_type": "execute_result"
    }
   ],
   "source": [
    "# Saving all the ML models\n",
    "import joblib\n",
    "\n",
    "# Logistic Regression Model\n",
    "joblib.dump(final_lr_model, \"../models/logistic_regression_failure.pkl\")\n",
    "\n",
    "# Random Forest Classifier Model\n",
    "joblib.dump(final_rf_model, \"../models/random_forest_failure.pkl\")\n",
    "\n",
    "# K Nearest Neigbors Classifier Model\n",
    "joblib.dump(knn_pipeline, \"../models/k_nearest_neighborsfailure.pkl\")\n",
    "\n",
    "#Gradient Boosting Classifier Model\n",
    "joblib.dump(gb_pipeline, \"../models/gradient_boosting_failure.pkl\")\n",
    "\n",
    "# Extreme Gradient Boosting Classifier Model\n",
    "joblib.dump(xgb_pipeline, \"../models/xtreme_boosting_failure.pkl\")"
   ]
  },
  {
   "cell_type": "markdown",
   "metadata": {},
   "source": [
    "### 7. Model Evaluation <a name = \"model-evaluation\"></a>"
   ]
  },
  {
   "cell_type": "code",
   "execution_count": 191,
   "metadata": {},
   "outputs": [
    {
     "data": {
      "image/png": "[encoded data removed]",
      "text/plain": [
       "<Figure size 576x432 with 1 Axes>"
      ]
     },
     "metadata": {},
     "output_type": "display_data"
    }
   ],
   "source": [
    "# Create ROC Graph\n",
    "lr_fpr, lr_tpr, lr_thresholds = roc_curve(y_test, final_lr_model.predict_proba(X_test)[:,1])\n",
    "rf_fpr, rf_tpr, rf_thresholds = roc_curve(y_test, final_rf_model.predict_proba(X_test)[:,1])\n",
    "knn_fpr, knn_tpr, knn_thresholds = roc_curve(y_test, knn_pipeline.predict_proba(X_test)[:,1])\n",
    "xgb_fpr, xgb_tpr, xgb_thresholds = roc_curve(y_test, xgb_pipeline.predict_proba(X_test)[:,1])\n",
    "gb_fpr, gb_tpr, gb_thresholds = roc_curve(y_test, gb_pipeline.predict_proba(X_test)[:,1])\n",
    "\n",
    "lr_roc_auc = roc_auc_score(y_test, y_pred_lr)\n",
    "rf_roc_auc = roc_auc_score(y_test, y_pred_rf)\n",
    "knn_roc_auc = roc_auc_score(y_test, y_pred_knn)\n",
    "xgb_roc_auc = roc_auc_score(y_test, y_pred_xgb)\n",
    "gb_roc_auc = roc_auc_score(y_test, y_pred_gb)\n",
    "\n",
    "plt.figure(figsize=(8, 6))\n",
    "\n",
    "# Plot Logistic Regression ROC\n",
    "plt.plot(lr_fpr, lr_tpr, label='LR (area = %0.2f)' % lr_roc_auc)\n",
    "\n",
    "# Plot Random Forest ROC\n",
    "plt.plot(rf_fpr, rf_tpr, label='RF (area = %0.2f)' % rf_roc_auc)\n",
    "\n",
    "# Plot K Nearest Neighbors ROC\n",
    "plt.plot(knn_fpr, knn_tpr, label='KNN (area = %0.2f)' % knn_roc_auc)\n",
    "\n",
    "# Plot Gboost ROC\n",
    "plt.plot(gb_fpr, gb_tpr, label='GB (area = %0.2f)' % gb_roc_auc)\n",
    "\n",
    "# Plot XGboost ROC\n",
    "plt.plot(xgb_fpr, xgb_tpr, label='XGB (area = %0.2f)' % xgb_roc_auc)\n",
    "\n",
    "# Plot Base Rate ROC\n",
    "plt.plot([0,1], [0,1],label='Base')\n",
    "\n",
    "plt.xlim([0.0, 1.05])\n",
    "plt.ylim([0.0, 1.05])\n",
    "plt.xlabel('False Positive Rate')\n",
    "plt.ylabel('True Positive Rate')\n",
    "plt.title('ROC Graph')\n",
    "plt.legend(loc=\"lower right\")\n",
    "plt.show()"
   ]
  },
  {
   "cell_type": "markdown",
   "metadata": {},
   "source": [
    "### 8. Voting Classifier <a name = \"voting-classifier\"></a>"
   ]
  },
  {
   "cell_type": "markdown",
   "metadata": {},
   "source": [
    "Since the models trained by us are lacking in some parts (either TP or FP) when it comes to predicting the failure of devices, we will ensemble three of our top performing models using a Voting classifier. This will help us reduce the number of FP and increase the TP."
   ]
  },
  {
   "cell_type": "code",
   "execution_count": null,
   "metadata": {},
   "outputs": [],
   "source": [
    "# Creating a Voting Classifier consisting of our top 3 performing models i.e GB, LR and KNN Classifiers\n",
    "vc_pipeline = Pipeline([\n",
    "    (\"preprocess\", preprocessing_pipeline),\n",
    "    (\"v_clf\", VotingClassifier(estimators=[(\"gb\", GradientBoostingClassifier(n_estimators=500, learning_rate = 0.01)),\n",
    "                                               (\"knn\", KNeighborsClassifier(n_neighbors=25)),\n",
    "                                                (\"lr\", LogisticRegression(solver=\"saga\", max_iter=1000, class_weight=\"balanced\"))],\n",
    "                                voting=\"soft\"))\n",
    "])\n",
    "\n",
    "vc_pipeline.fit(X_train_rs, y_train_rs)"
   ]
  },
  {
   "cell_type": "code",
   "execution_count": 234,
   "metadata": {},
   "outputs": [
    {
     "name": "stdout",
     "output_type": "stream",
     "text": [
      "Accuracy:  0.96\n",
      "ROC-AUC score:  0.89\n",
      "F1-score:  0.51\n",
      "Precision:  0.51\n",
      "Recall:  0.89\n",
      "---------------------------\n",
      "[[23978   900]\n",
      " [    4    17]]\n",
      "---------------------------\n",
      "              precision    recall  f1-score   support\n",
      "\n",
      "           0       1.00      0.96      0.98     24878\n",
      "           1       0.02      0.81      0.04        21\n",
      "\n",
      "    accuracy                           0.96     24899\n",
      "   macro avg       0.51      0.89      0.51     24899\n",
      "weighted avg       1.00      0.96      0.98     24899\n",
      "\n"
     ]
    }
   ],
   "source": [
    "# Checking the model performance on test data\n",
    "y_pred_vc = vc_pipeline.predict(X_test)\n",
    "print_metrics(y_pred_vc)"
   ]
  },
  {
   "cell_type": "code",
   "execution_count": 241,
   "metadata": {},
   "outputs": [
    {
     "data": {
      "image/png": "[encoded data removed]",
      "text/plain": [
       "<Figure size 432x288 with 1 Axes>"
      ]
     },
     "metadata": {},
     "output_type": "display_data"
    }
   ],
   "source": [
    "# Computing the TPR and FPR values from the roc curve\n",
    "y_pred =  vc_pipeline.predict_proba(X_test)[:, 1]\n",
    "fpr, tpr, thresholds = roc_curve(y_test, y_pred)\n",
    "roc_auc = roc_auc_score(y_test, y_pred)\n",
    "# Plotting the ROC curve\n",
    "def plot_roc_curve (fpr, tpr, label = None, title=None):\n",
    "    plt.plot(fpr, tpr, linewidth = 2, label= label)\n",
    "    plt.plot([0,1], [0,1], 'k--') # Dashed diagonal\n",
    "    plt.xlabel(\"False Positive Rate\")\n",
    "    plt.ylabel(\"True Positive Rate (Recall)\")\n",
    "    plt.title(title)\n",
    "    plt.grid()\n",
    "    plt.legend(loc=\"lower right\")\n",
    "    \n",
    "plot_roc_curve(fpr, tpr, 'VC (area = %0.2f)' % roc_auc, \"ROC-AUC for Voting Classifier\")\n",
    "plt.show()"
   ]
  },
  {
   "cell_type": "code",
   "execution_count": 242,
   "metadata": {},
   "outputs": [
    {
     "data": {
      "text/plain": [
       "['../models/final_voting_classifier_model.pkl']"
      ]
     },
     "execution_count": 242,
     "metadata": {},
     "output_type": "execute_result"
    }
   ],
   "source": [
    "# This looks great. We'll go ahead and save this as our final model\n",
    "joblib.dump(vc_pipeline, \"../models/final_voting_classifier_model.pkl\")"
   ]
  },
  {
   "cell_type": "markdown",
   "metadata": {},
   "source": [
    "### 9. Conclusion <a name = \"conclusion\"></a>"
   ]
  },
  {
   "cell_type": "markdown",
   "metadata": {},
   "source": [
    "To conclude, we have implemented an ensemble of trained Machine Learning models such as Logistic Regression, Gradient Boosting Classifier and K Nearest Neighbors using Voting Classifier to predict the probabilty of device failures given some input features. The ensemble model acheievd an ROC-AUC score of almost 0.90 on the unseen test data."
   ]
  },
  {
   "cell_type": "markdown",
   "metadata": {},
   "source": [
    "# Thank you!"
   ]
  }
 ],
 "metadata": {
  "colab": {
   "collapsed_sections": [],
   "name": "01-eda-and-data-preprocessing.ipynb",
   "provenance": []
  },
  "interpreter": {
   "hash": "b3ba2566441a7c06988d0923437866b63cedc61552a5af99d1f4fb67d367b25f"
  },
  "kernelspec": {
   "display_name": "Python [conda env:miniconda3]",
   "language": "python",
   "name": "conda-env-miniconda3-py"
  },
  "language_info": {
   "codemirror_mode": {
    "name": "ipython",
    "version": 3
   },
   "file_extension": ".py",
   "mimetype": "text/x-python",
   "name": "python",
   "nbconvert_exporter": "python",
   "pygments_lexer": "ipython3",
   "version": "3.9.7"
  }
 },
 "nbformat": 4,
 "nbformat_minor": 4
}
